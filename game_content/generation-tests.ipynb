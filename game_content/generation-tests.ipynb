{
 "cells": [
  {
   "cell_type": "code",
   "execution_count": 445,
   "metadata": {},
   "outputs": [],
   "source": [
    "from __future__ import annotations\n",
    "\n",
    "import pandas as pd\n",
    "from typing import Type\n",
    "import json"
   ]
  },
  {
   "cell_type": "code",
   "execution_count": 446,
   "metadata": {},
   "outputs": [],
   "source": [
    "materials = pd.read_csv(\"tables/materials.csv\");"
   ]
  },
  {
   "cell_type": "code",
   "execution_count": 447,
   "metadata": {},
   "outputs": [
    {
     "data": {
      "text/html": [
       "<div>\n",
       "<style scoped>\n",
       "    .dataframe tbody tr th:only-of-type {\n",
       "        vertical-align: middle;\n",
       "    }\n",
       "\n",
       "    .dataframe tbody tr th {\n",
       "        vertical-align: top;\n",
       "    }\n",
       "\n",
       "    .dataframe thead th {\n",
       "        text-align: right;\n",
       "    }\n",
       "</style>\n",
       "<table border=\"1\" class=\"dataframe\">\n",
       "  <thead>\n",
       "    <tr style=\"text-align: right;\">\n",
       "      <th></th>\n",
       "      <th>id</th>\n",
       "      <th>category</th>\n",
       "      <th>cutting-power</th>\n",
       "      <th>density</th>\n",
       "      <th>cutting-protection</th>\n",
       "      <th>blunt-protection</th>\n",
       "      <th>penentration-protection</th>\n",
       "      <th>magic</th>\n",
       "      <th>name</th>\n",
       "    </tr>\n",
       "  </thead>\n",
       "  <tbody>\n",
       "    <tr>\n",
       "      <th>0</th>\n",
       "      <td>arrow-bone</td>\n",
       "      <td>bow-ammo</td>\n",
       "      <td>1.0</td>\n",
       "      <td>0.2</td>\n",
       "      <td>0.0</td>\n",
       "      <td>0.0</td>\n",
       "      <td>0.0</td>\n",
       "      <td>0.0</td>\n",
       "      <td>Bone arrow</td>\n",
       "    </tr>\n",
       "    <tr>\n",
       "      <th>1</th>\n",
       "      <td>arrow-zaz</td>\n",
       "      <td>bow-ammo</td>\n",
       "      <td>2.0</td>\n",
       "      <td>0.2</td>\n",
       "      <td>0.0</td>\n",
       "      <td>0.0</td>\n",
       "      <td>0.0</td>\n",
       "      <td>1.0</td>\n",
       "      <td>Zaz arrow</td>\n",
       "    </tr>\n",
       "    <tr>\n",
       "      <th>2</th>\n",
       "      <td>cotton</td>\n",
       "      <td>plant</td>\n",
       "      <td>0.0</td>\n",
       "      <td>0.1</td>\n",
       "      <td>0.2</td>\n",
       "      <td>0.2</td>\n",
       "      <td>0.2</td>\n",
       "      <td>0.1</td>\n",
       "      <td>Cotton</td>\n",
       "    </tr>\n",
       "    <tr>\n",
       "      <th>3</th>\n",
       "      <td>textile</td>\n",
       "      <td>material</td>\n",
       "      <td>0.0</td>\n",
       "      <td>1.0</td>\n",
       "      <td>1.0</td>\n",
       "      <td>1.0</td>\n",
       "      <td>1.0</td>\n",
       "      <td>0.1</td>\n",
       "      <td>Textile</td>\n",
       "    </tr>\n",
       "    <tr>\n",
       "      <th>4</th>\n",
       "      <td>small-bone-rat</td>\n",
       "      <td>bone</td>\n",
       "      <td>1.0</td>\n",
       "      <td>0.5</td>\n",
       "      <td>0.5</td>\n",
       "      <td>0.5</td>\n",
       "      <td>0.5</td>\n",
       "      <td>0.0</td>\n",
       "      <td>Bone(rat, small)</td>\n",
       "    </tr>\n",
       "  </tbody>\n",
       "</table>\n",
       "</div>"
      ],
      "text/plain": [
       "               id  category  cutting-power  density  cutting-protection  \\\n",
       "0      arrow-bone  bow-ammo            1.0      0.2                 0.0   \n",
       "1       arrow-zaz  bow-ammo            2.0      0.2                 0.0   \n",
       "2          cotton     plant            0.0      0.1                 0.2   \n",
       "3         textile  material            0.0      1.0                 1.0   \n",
       "4  small-bone-rat      bone            1.0      0.5                 0.5   \n",
       "\n",
       "   blunt-protection  penentration-protection  magic              name  \n",
       "0               0.0                      0.0    0.0        Bone arrow  \n",
       "1               0.0                      0.0    1.0         Zaz arrow  \n",
       "2               0.2                      0.2    0.1            Cotton  \n",
       "3               1.0                      1.0    0.1           Textile  \n",
       "4               0.5                      0.5    0.0  Bone(rat, small)  "
      ]
     },
     "execution_count": 447,
     "metadata": {},
     "output_type": "execute_result"
    }
   ],
   "source": [
    "materials.head(5)"
   ]
  },
  {
   "cell_type": "code",
   "execution_count": 448,
   "metadata": {},
   "outputs": [
    {
     "data": {
      "text/plain": [
       "[RangeIndex(start=0, stop=33, step=1),\n",
       " Index(['id', 'category', 'cutting-power', 'density', 'cutting-protection',\n",
       "        'blunt-protection', 'penentration-protection', 'magic', 'name'],\n",
       "       dtype='object')]"
      ]
     },
     "execution_count": 448,
     "metadata": {},
     "output_type": "execute_result"
    }
   ],
   "source": [
    "materials.axes"
   ]
  },
  {
   "cell_type": "code",
   "execution_count": 449,
   "metadata": {},
   "outputs": [],
   "source": [
    "number_columns = ['cutting-power', 'density', 'cutting-protection',\n",
    "        'blunt-protection', 'penentration-protection', 'magic']\n",
    "string_columns = ['name']\n",
    "enum_columns = ['tag', 'category']"
   ]
  },
  {
   "cell_type": "markdown",
   "metadata": {},
   "source": [
    "## Generating enum"
   ]
  },
  {
   "cell_type": "code",
   "execution_count": 450,
   "metadata": {},
   "outputs": [],
   "source": [
    "main_string = \"\"\n",
    "configuration_string = \"\"\n",
    "accessor_string = \"\""
   ]
  },
  {
   "cell_type": "code",
   "execution_count": 451,
   "metadata": {},
   "outputs": [],
   "source": [
    "def enum_name(s: str):\n",
    "    return s.replace(\"-\", \"_\").upper()\n",
    "\n",
    "def method_name(s: str):\n",
    "    return s.replace(\"-\", \"_\")\n",
    "\n",
    "def getter_name(s: str):\n",
    "    return \"get \" + method_name(s) + \"()\"\n",
    "\n",
    "def new_line(s:str):\n",
    "    return s + \"\\n\"\n",
    "\n",
    "def comma(s: str):\n",
    "    return s + ','\n",
    "\n",
    "def space(s: str):\n",
    "    return s + ' '\n",
    "\n",
    "def quotes(s: str):\n",
    "    return f'\"{s}\"'\n",
    "\n",
    "def tab(s: str):\n",
    "    return \"    \" + s\n",
    "\n",
    "def collection_name(singular: str):\n",
    "    def _collection_name(s: str):\n",
    "        return singular + '.' + s\n",
    "    return _collection_name\n",
    "\n",
    "def accessor(array_name: str, property_name: str):\n",
    "    return (\n",
    "        f'    {getter_name(property_name)} {{\\n'\n",
    "        f'        return MaterialConfiguration.{array_name}[this._id]\\n'\n",
    "        f'    }}\\n'\n",
    "    )\n",
    "\n",
    "def id_accessor():\n",
    "    return (\n",
    "        f'    {getter_name(\"id\")} {{\\n'\n",
    "        f'        return this._id\\n'\n",
    "        f'    }}\\n'\n",
    "    )"
   ]
  },
  {
   "cell_type": "code",
   "execution_count": 452,
   "metadata": {},
   "outputs": [],
   "source": [
    "class DataEnum:\n",
    "    def __init__(self, name_singular, name_plural, axis_name) -> None:\n",
    "        self.name_singular = name_singular\n",
    "        self.name_plural = name_plural\n",
    "        self.axis_name = axis_name\n",
    "\n",
    "    def extract_definition_from_table(self, data: pd.DataFrame):\n",
    "        return (\n",
    "            f'export const enum {self.name_singular} ' '{\\n'\n",
    "            f'{data[self.axis_name].apply(enum_name).drop_duplicates(keep=\"first\").apply(comma).apply(new_line).apply(tab).sum()}'\n",
    "            '}\\n'\n",
    "        )\n",
    "\n",
    "\n",
    "    def enum_type_symbol(self):\n",
    "        return f'{enum_name(self.name_singular)}'\n",
    "    def mapping_type_symbol(self, id_enum:DataEnum):\n",
    "        return f'Record<{id_enum.name_singular}, {self.name_singular}>'\n",
    "    def mapping_string_type_symbol(self, id_enum:DataEnum):\n",
    "        return f'Record<{id_enum.name_singular}, string>'\n",
    "    def array_type_symbol(self):\n",
    "        return f'{self.name_singular}[]'\n",
    "    def array_strings_type_symbol(self):\n",
    "        return f'Record<{self.enum_type_symbol()}, string>'\n",
    "    def dict_type_symbol(self):\n",
    "        return f'Record<string, {self.enum_type_symbol()}>'\n",
    "\n",
    "\n",
    "    def array_symbol(self):\n",
    "        return f'{enum_name(self.name_plural)}'\n",
    "    def array_strings_symbol(self):\n",
    "        return f'{enum_name(self.name_plural)}_TO_STRING'\n",
    "    def dict_symbol(self):\n",
    "        return f'{enum_name(self.name_plural)}_FROM_STRING'\n",
    "\n",
    "\n",
    "    def mapping_symbol(self, id_enum: DataEnum):\n",
    "        return f'{enum_name(id_enum.name_singular)}_{enum_name(self.name_singular)}'\n",
    "    def mapping_string_symbol(self, id_enum: DataEnum):\n",
    "        return f'{enum_name(id_enum.name_singular)}_{enum_name(self.name_singular)}_STRING'\n",
    "\n",
    "    def extract_python_list_of_strings(self, data: pd.DataFrame):\n",
    "        return data[self.axis_name].drop_duplicates(keep=\"first\").values\n",
    "\n",
    "    def extract_python_list_of_enum_names(self, data: pd.DataFrame):\n",
    "        return data[self.axis_name].apply(enum_name).drop_duplicates(keep=\"first\").apply(collection_name(self.name_singular)).values\n",
    "\n",
    "    def extract_array_from_table(self, data: pd.DataFrame):\n",
    "        return f'    static {self.array_symbol()} : {self.array_type_symbol()} = [{data[self.axis_name].apply(enum_name).drop_duplicates(keep=\"first\").apply(collection_name(self.name_singular)).apply(comma).apply(space).sum()}]\\n'\n",
    "    def extract_string_array_from_table(self, data: pd.DataFrame):\n",
    "        return f'    static {self.array_strings_symbol()} : {self.array_strings_type_symbol()} = [{data[self.axis_name].apply(quotes).drop_duplicates(keep=\"first\").apply(comma).apply(space).sum()}]\\n'\n",
    "\n",
    "\n",
    "    def extract_inverse_mapping(self, data: pd.DataFrame):\n",
    "        data_string = \", \".join([f'\"{k}\": {v}' for k, v in zip(self.extract_python_list_of_strings(data), self.extract_python_list_of_enum_names(data))])\n",
    "        return f'    static {self.dict_symbol()} : {self.dict_type_symbol()} = {{ {data_string} }}\\n'\n",
    "\n",
    "    def extract_mapping_string(self, data: pd.DataFrame, id_enum: DataEnum):\n",
    "        return f'    static {self.mapping_string_symbol(id_enum)} : {self.mapping_string_type_symbol(id_enum)} = [{data[self.axis_name].apply(str).apply(quotes).apply(comma).apply(space).sum()}]\\n'\n",
    "\n",
    "    def extract_mapping(self, data: pd.DataFrame, id_enum: DataEnum):\n",
    "        return f'    static {self.mapping_symbol(id_enum)} : {self.mapping_type_symbol(id_enum)} = [{data[self.axis_name].apply(enum_name).apply(collection_name(self.name_singular)).apply(comma).apply(space).sum()}]\\n'\n",
    "\n",
    "    def getter_string(self, id_enum:DataEnum):\n",
    "        return accessor(f'{self.mapping_string_symbol(id_enum)}', self.axis_name + \"_string\")\n",
    "\n",
    "    def getter(self, id_enum: DataEnum):\n",
    "        if (id_enum == self):\n",
    "            return id_accessor()\n",
    "        return accessor(f'{self.mapping_symbol(id_enum)}', self.axis_name)"
   ]
  },
  {
   "cell_type": "code",
   "execution_count": 453,
   "metadata": {},
   "outputs": [],
   "source": [
    "enum_MATERIAL_ID = DataEnum(\"MATERIAL\", \"MATERIALS\", \"id\")\n",
    "enum_MATERIAL_CATEGORY = DataEnum(\"MATERIAL_CATEGORY\", \"MATERIAL_CATEGORIES\", \"category\")\n",
    "enums = [enum_MATERIAL_ID, enum_MATERIAL_CATEGORY]"
   ]
  },
  {
   "cell_type": "markdown",
   "metadata": {},
   "source": [
    "### Enums for categorical data:"
   ]
  },
  {
   "cell_type": "code",
   "execution_count": 454,
   "metadata": {},
   "outputs": [],
   "source": [
    "for item in enums:\n",
    "    main_string += item.extract_definition_from_table(materials)\n",
    "\n",
    "    configuration_string += item.extract_array_from_table(materials)\n",
    "    configuration_string += item.extract_inverse_mapping(materials)\n",
    "    configuration_string += item.extract_string_array_from_table(materials)\n",
    "\n",
    "    configuration_string += item.extract_mapping(materials, enum_MATERIAL_ID)\n",
    "    configuration_string += item.extract_mapping_string(materials, enum_MATERIAL_ID)\n",
    "    accessor_string += item.getter(enum_MATERIAL_ID)\n",
    "    accessor_string += item.getter_string(enum_MATERIAL_ID)"
   ]
  },
  {
   "cell_type": "code",
   "execution_count": 455,
   "metadata": {},
   "outputs": [],
   "source": [
    "\n",
    "\n",
    "def register_enum(s: pd.Series, singular: str, plural: str, axe: str, getter_name: str):\n",
    "    main_string = (\n",
    "        f'const enum {singular} ' '{\\n'\n",
    "        f'{s.apply(enum_name).drop_duplicates(keep=\"first\").apply(comma).apply(new_line).apply(tab).sum()}'\n",
    "        '}\\n'\n",
    "    )\n",
    "    array_string = f'    static {plural}: {singular}[] = [{s.apply(enum_name).drop_duplicates(keep=\"first\").apply(collection_name(singular)).apply(comma).apply(space).sum()}]\\n'\n",
    "    getter_string = accessor(f'{enum_name(singular)}_STRING', getter_name + \"_string\")\n",
    "    getter_enum = accessor(f'{enum_name(plural)}', getter_name)\n",
    "    return main_string, array_string, getter_string, getter_enum"
   ]
  },
  {
   "cell_type": "code",
   "execution_count": 456,
   "metadata": {},
   "outputs": [],
   "source": [
    "# enum, array, getter_string, getter = register_enum(materials[\"tag\"], ENUM_MATERIAL, ENUM_MATERIAL_PLURAL, \"tag\", \"id\")\n",
    "# configuration_string += array\n",
    "# main_string += enum\n",
    "# accessor_string += getter + getter_string\n",
    "\n",
    "# enum, array, getter_string, getter = register_enum(materials[\"category\"], ENUM_CATEGORY, ENUM_CATEGORY_PLURAL, \"category\", \"category\")\n",
    "# configuration_string += array\n",
    "# main_string += enum\n",
    "# accessor_string += getter + getter_string\n",
    "\n",
    "\n",
    "# configuration_string += f'    static {enum_name(ENUM_MATERIAL)}_STRING : Record<{ENUM_MATERIAL}, string> = [{materials[\"tag\"].apply(str).apply(quotes).apply(comma).apply(space).sum()}]\\n'\n",
    "# configuration_string += f'    static {enum_name(ENUM_CATEGORY)}_STRING : Record<{ENUM_MATERIAL}, string> = [{materials[\"category\"].apply(str).apply(quotes).apply(comma).apply(space).sum()}]'"
   ]
  },
  {
   "cell_type": "markdown",
   "metadata": {},
   "source": [
    "### Data"
   ]
  },
  {
   "cell_type": "code",
   "execution_count": 457,
   "metadata": {},
   "outputs": [],
   "source": [
    "def number_series_to_array(s: pd.Series, id_enum: DataEnum, axis_name) -> str:\n",
    "    return f'    static {id_enum.name_singular}_{enum_name(axis_name)} : Record<{id_enum.name_singular}, number> = [{s.apply(str).apply(comma).apply(space).sum()}]'\n",
    "\n",
    "def string_series_to_array(s: pd.Series, id_enum: DataEnum, axis_name) -> str:\n",
    "    return f'    static {id_enum.name_singular}_{enum_name(axis_name)} : Record<{id_enum.name_singular}, string> = [{s.apply(quotes).apply(comma).apply(space).sum()}]'"
   ]
  },
  {
   "cell_type": "code",
   "execution_count": 458,
   "metadata": {},
   "outputs": [],
   "source": [
    "for item in number_columns:\n",
    "    configuration_string = \"\\n\".join([configuration_string, number_series_to_array(materials[item], enum_MATERIAL_ID, item)])\n",
    "    accessor_string = \"\".join([accessor_string, accessor(f'{enum_MATERIAL_ID.name_singular}_{enum_name(item)}', item)])\n",
    "\n",
    "for item in string_columns:\n",
    "    configuration_string = \"\\n\".join([configuration_string, string_series_to_array(materials[item], enum_MATERIAL_ID, item)])\n",
    "    accessor_string = \"\".join([accessor_string, accessor(f'{enum_MATERIAL_ID.name_singular}_{enum_name(item)}', item)])"
   ]
  },
  {
   "cell_type": "markdown",
   "metadata": {},
   "source": [
    "### Fat material"
   ]
  },
  {
   "cell_type": "code",
   "execution_count": 459,
   "metadata": {},
   "outputs": [],
   "source": [
    "main_string = \"\\n\".join([main_string, \"\"\"\n",
    "\n",
    "\n",
    "export interface MaterialData {\n",
    "    readonly id: MATERIAL\n",
    "    readonly category: MATERIAL_CATEGORY\n",
    "    readonly id_string: string\n",
    "    readonly category_string: string\n",
    "    readonly cutting_power: number\n",
    "    readonly density: number\n",
    "    readonly cutting_protection: number\n",
    "    readonly blunt_protection: number\n",
    "    readonly penentration_protection: number\n",
    "    readonly magic: number\n",
    "}\n",
    "\"\"\"])"
   ]
  },
  {
   "cell_type": "code",
   "execution_count": 460,
   "metadata": {},
   "outputs": [],
   "source": [
    "configuration_string = (\n",
    "    f'export class MaterialConfiguration {{\\n'\n",
    "    f'{configuration_string}\\n'\n",
    "    # f'    get_instance() {{\\n'\n",
    "    # f'        if (MaterialConfiguration._instance) return MaterialConfiguration._instance;\\n'\n",
    "    # f'        MaterialConfiguration._instance = new MaterialConfiguration()\\n'\n",
    "    # f'    }}\\n'\n",
    "    f'}}\\n'\n",
    ")"
   ]
  },
  {
   "cell_type": "code",
   "execution_count": 461,
   "metadata": {},
   "outputs": [],
   "source": [
    "\n",
    "\n",
    "accessor_string = (\n",
    "    f'\\n'\n",
    "    f'export class Material implements MaterialData {{\\n'\n",
    "    f'    private _id: MATERIAL\\n'\n",
    "    f'    constructor(id: MATERIAL) {{\\n'\n",
    "    f'        if (!(id in MaterialConfiguration.MATERIAL_MATERIAL_STRING)) {{\\n'\n",
    "    f'            throw new Error(`Invalid material id: ${{id}}`);\\n'\n",
    "    f'        }}\\n'\n",
    "    f'        this._id = id\\n'\n",
    "    f'    }}\\n'\n",
    "    f'    static from_string(id: string) {{\\n'\n",
    "    f'        if (!(id in MaterialConfiguration.MATERIALS_FROM_STRING)) {{\\n'\n",
    "    f'            throw new Error(`Invalid material id: ${{id}}`);\\n'\n",
    "    f'        }}\\n'\n",
    "    f'        return new Material(MaterialConfiguration.MATERIALS_FROM_STRING[id])\\n'\n",
    "    f'    }}\\n'\n",
    "    f'{accessor_string}'\n",
    "    f'}}\\n'\n",
    ")\n",
    "\n",
    "print(main_string +  configuration_string + accessor_string, file=open(\"src/materials.ts\", \"w\"))"
   ]
  }
 ],
 "metadata": {
  "kernelspec": {
   "display_name": "Python 3",
   "language": "python",
   "name": "python3"
  },
  "language_info": {
   "codemirror_mode": {
    "name": "ipython",
    "version": 3
   },
   "file_extension": ".py",
   "mimetype": "text/x-python",
   "name": "python",
   "nbconvert_exporter": "python",
   "pygments_lexer": "ipython3",
   "version": "3.10.0"
  }
 },
 "nbformat": 4,
 "nbformat_minor": 2
}
