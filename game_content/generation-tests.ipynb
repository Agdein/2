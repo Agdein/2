{
 "cells": [
  {
   "cell_type": "code",
   "execution_count": 538,
   "metadata": {},
   "outputs": [],
   "source": [
    "import pandas as pd"
   ]
  },
  {
   "cell_type": "code",
   "execution_count": 539,
   "metadata": {},
   "outputs": [],
   "source": [
    "materials = pd.read_csv(\"materials.csv\");"
   ]
  },
  {
   "cell_type": "code",
   "execution_count": 540,
   "metadata": {},
   "outputs": [
    {
     "data": {
      "text/html": [
       "<div>\n",
       "<style scoped>\n",
       "    .dataframe tbody tr th:only-of-type {\n",
       "        vertical-align: middle;\n",
       "    }\n",
       "\n",
       "    .dataframe tbody tr th {\n",
       "        vertical-align: top;\n",
       "    }\n",
       "\n",
       "    .dataframe thead th {\n",
       "        text-align: right;\n",
       "    }\n",
       "</style>\n",
       "<table border=\"1\" class=\"dataframe\">\n",
       "  <thead>\n",
       "    <tr style=\"text-align: right;\">\n",
       "      <th></th>\n",
       "      <th>tag</th>\n",
       "      <th>category</th>\n",
       "      <th>cutting-power</th>\n",
       "      <th>density</th>\n",
       "      <th>cutting-protection</th>\n",
       "      <th>blunt-protection</th>\n",
       "      <th>penentration-protection</th>\n",
       "      <th>magic</th>\n",
       "      <th>name</th>\n",
       "    </tr>\n",
       "  </thead>\n",
       "  <tbody>\n",
       "    <tr>\n",
       "      <th>0</th>\n",
       "      <td>arrow-bone</td>\n",
       "      <td>bow-ammo</td>\n",
       "      <td>1.0</td>\n",
       "      <td>0.2</td>\n",
       "      <td>0.0</td>\n",
       "      <td>0.0</td>\n",
       "      <td>0.0</td>\n",
       "      <td>0.0</td>\n",
       "      <td>Bone arrow</td>\n",
       "    </tr>\n",
       "    <tr>\n",
       "      <th>1</th>\n",
       "      <td>arrow-zaz</td>\n",
       "      <td>bow-ammo</td>\n",
       "      <td>2.0</td>\n",
       "      <td>0.2</td>\n",
       "      <td>0.0</td>\n",
       "      <td>0.0</td>\n",
       "      <td>0.0</td>\n",
       "      <td>1.0</td>\n",
       "      <td>Zaz arrow</td>\n",
       "    </tr>\n",
       "    <tr>\n",
       "      <th>2</th>\n",
       "      <td>cotton</td>\n",
       "      <td>plant</td>\n",
       "      <td>0.0</td>\n",
       "      <td>0.1</td>\n",
       "      <td>0.2</td>\n",
       "      <td>0.2</td>\n",
       "      <td>0.2</td>\n",
       "      <td>0.1</td>\n",
       "      <td>Cotton</td>\n",
       "    </tr>\n",
       "    <tr>\n",
       "      <th>3</th>\n",
       "      <td>textile</td>\n",
       "      <td>material</td>\n",
       "      <td>0.0</td>\n",
       "      <td>1.0</td>\n",
       "      <td>1.0</td>\n",
       "      <td>1.0</td>\n",
       "      <td>1.0</td>\n",
       "      <td>0.1</td>\n",
       "      <td>Textile</td>\n",
       "    </tr>\n",
       "    <tr>\n",
       "      <th>4</th>\n",
       "      <td>small-bone-rat</td>\n",
       "      <td>bone</td>\n",
       "      <td>1.0</td>\n",
       "      <td>0.5</td>\n",
       "      <td>0.5</td>\n",
       "      <td>0.5</td>\n",
       "      <td>0.5</td>\n",
       "      <td>0.0</td>\n",
       "      <td>Bone(rat, small)</td>\n",
       "    </tr>\n",
       "  </tbody>\n",
       "</table>\n",
       "</div>"
      ],
      "text/plain": [
       "              tag  category  cutting-power  density  cutting-protection  \\\n",
       "0      arrow-bone  bow-ammo            1.0      0.2                 0.0   \n",
       "1       arrow-zaz  bow-ammo            2.0      0.2                 0.0   \n",
       "2          cotton     plant            0.0      0.1                 0.2   \n",
       "3         textile  material            0.0      1.0                 1.0   \n",
       "4  small-bone-rat      bone            1.0      0.5                 0.5   \n",
       "\n",
       "   blunt-protection  penentration-protection  magic              name  \n",
       "0               0.0                      0.0    0.0        Bone arrow  \n",
       "1               0.0                      0.0    1.0         Zaz arrow  \n",
       "2               0.2                      0.2    0.1            Cotton  \n",
       "3               1.0                      1.0    0.1           Textile  \n",
       "4               0.5                      0.5    0.0  Bone(rat, small)  "
      ]
     },
     "execution_count": 540,
     "metadata": {},
     "output_type": "execute_result"
    }
   ],
   "source": [
    "materials.head(5)"
   ]
  },
  {
   "cell_type": "code",
   "execution_count": 541,
   "metadata": {},
   "outputs": [
    {
     "data": {
      "text/plain": [
       "[RangeIndex(start=0, stop=31, step=1),\n",
       " Index(['tag', 'category', 'cutting-power', 'density', 'cutting-protection',\n",
       "        'blunt-protection', 'penentration-protection', 'magic', 'name'],\n",
       "       dtype='object')]"
      ]
     },
     "execution_count": 541,
     "metadata": {},
     "output_type": "execute_result"
    }
   ],
   "source": [
    "materials.axes"
   ]
  },
  {
   "cell_type": "code",
   "execution_count": 542,
   "metadata": {},
   "outputs": [],
   "source": [
    "number_columns = ['cutting-power', 'density', 'cutting-protection',\n",
    "        'blunt-protection', 'penentration-protection', 'magic']\n",
    "strings = [\n",
    "    'tag',\n",
    "]"
   ]
  },
  {
   "cell_type": "markdown",
   "metadata": {},
   "source": [
    "## Generating enum"
   ]
  },
  {
   "cell_type": "code",
   "execution_count": 543,
   "metadata": {},
   "outputs": [],
   "source": [
    "main_string = \"\"\n",
    "configuration_string = \"\"\n",
    "accessor_string = \"\""
   ]
  },
  {
   "cell_type": "markdown",
   "metadata": {},
   "source": [
    "### Enums for categorical data:"
   ]
  },
  {
   "cell_type": "code",
   "execution_count": 544,
   "metadata": {},
   "outputs": [],
   "source": [
    "ENUM_MATERIAL = \"MATERIAL\"\n",
    "ENUM_MATERIAL_PLURAL = \"MATERIALS\"\n",
    "ENUM_CATEGORY = \"MATERIAL_CATEGORY\"\n",
    "ENUM_CATEGORY_PLURAL = \"MATERIAL_CATEGORIES\""
   ]
  },
  {
   "cell_type": "code",
   "execution_count": 545,
   "metadata": {},
   "outputs": [],
   "source": [
    "def enum_name(s: str):\n",
    "    return s.replace(\"-\", \"_\").upper()\n",
    "\n",
    "def method_name(s: str):\n",
    "    return s.replace(\"-\", \"_\")\n",
    "\n",
    "def getter_name(s: str):\n",
    "    return \"get \" + method_name(s) + \"()\"\n",
    "\n",
    "def new_line(s:str):\n",
    "    return s + \"\\n\"\n",
    "\n",
    "def comma(s: str):\n",
    "    return s + ','\n",
    "\n",
    "def space(s: str):\n",
    "    return s + ' '\n",
    "\n",
    "def quotes(s: str):\n",
    "    return f'\"{s}\"'\n",
    "\n",
    "def tab(s: str):\n",
    "    return \"    \" + s\n",
    "\n",
    "def collection_name(singular: str):\n",
    "    def _collection_name(s: str):\n",
    "        return singular + '.' + s\n",
    "    return _collection_name\n",
    "\n",
    "def accessor(array_name: str, property_name: str):\n",
    "    return (\n",
    "        f'    {getter_name(property_name)} {{\\n'\n",
    "        f'        return MaterialConfiguration.{array_name}[this._id]\\n'\n",
    "        f'    }}\\n'\n",
    "    )\n",
    "\n",
    "def categorical_to_enum(s: pd.Series, singular: str, plural: str, axe):\n",
    "    main_string = (\n",
    "        f'const enum {singular} ' '{\\n'\n",
    "        f'{s.apply(enum_name).drop_duplicates(keep=\"first\").apply(comma).apply(new_line).apply(tab).sum()}'\n",
    "        '}\\n'\n",
    "    )\n",
    "    array = f'    static {plural}: {singular}[] = [{s.apply(enum_name).drop_duplicates(keep=\"first\").apply(collection_name(singular)).apply(comma).apply(space).sum()}]\\n'\n",
    "    return main_string, array"
   ]
  },
  {
   "cell_type": "code",
   "execution_count": 546,
   "metadata": {},
   "outputs": [],
   "source": [
    "enum, array = categorical_to_enum(materials[\"tag\"], ENUM_MATERIAL, ENUM_MATERIAL_PLURAL, \"tag\")\n",
    "configuration_string += array\n",
    "main_string += enum\n",
    "\n",
    "enum, array = categorical_to_enum(materials[\"category\"], ENUM_CATEGORY, ENUM_CATEGORY_PLURAL, \"category\")\n",
    "configuration_string += array\n",
    "main_string += enum\n",
    "\n",
    "accessor_string += accessor(f'{enum_name(ENUM_MATERIAL)}_STRING', \"tag\")\n",
    "accessor_string += accessor(f'{enum_name(ENUM_CATEGORY)}_STRING', \"category\")\n",
    "\n",
    "accessor_string += accessor(f'{enum_name(ENUM_MATERIAL_PLURAL)}', \"id\")\n",
    "accessor_string += accessor(f'{enum_name(ENUM_CATEGORY_PLURAL)}', \"CATEGORY\")\n",
    "\n",
    "configuration_string += f'    static {enum_name(ENUM_MATERIAL)}_STRING : Record<{ENUM_MATERIAL}, string> = [{materials[\"tag\"].apply(str).apply(quotes).apply(comma).apply(space).sum()}]\\n'\n",
    "configuration_string += f'    static {enum_name(ENUM_CATEGORY)}_STRING : Record<{ENUM_MATERIAL}, string> = [{materials[\"category\"].apply(str).apply(quotes).apply(comma).apply(space).sum()}]'"
   ]
  },
  {
   "cell_type": "markdown",
   "metadata": {},
   "source": [
    "### Data"
   ]
  },
  {
   "cell_type": "code",
   "execution_count": 547,
   "metadata": {},
   "outputs": [],
   "source": [
    "def number_series_to_array(s: pd.Series, axis_name) -> str:\n",
    "    return f'    static {ENUM_MATERIAL}_{enum_name(axis_name)} : Record<{ENUM_MATERIAL}, number> = [{s.apply(str).apply(comma).apply(space).sum()}]'\n"
   ]
  },
  {
   "cell_type": "code",
   "execution_count": 548,
   "metadata": {},
   "outputs": [],
   "source": [
    "for item in number_columns:\n",
    "    configuration_string = \"\\n\".join([configuration_string, number_series_to_array(materials[item], item)])\n",
    "    accessor_string = \"\".join([accessor_string, accessor(f'{ENUM_MATERIAL}_{enum_name(item)}', item)])"
   ]
  },
  {
   "cell_type": "markdown",
   "metadata": {},
   "source": [
    "### Fat material"
   ]
  },
  {
   "cell_type": "code",
   "execution_count": 549,
   "metadata": {},
   "outputs": [],
   "source": [
    "main_string = \"\\n\".join([main_string, \"\"\"\n",
    "\n",
    "\n",
    "interface MaterialData {\n",
    "    readonly id: MATERIAL\n",
    "    readonly CATEGORY: MATERIAL_CATEGORY\n",
    "    readonly tag: string\n",
    "    readonly category: string\n",
    "    readonly cutting_power: number\n",
    "    readonly density: number\n",
    "    readonly cutting_protection: number\n",
    "    readonly blunt_protection: number\n",
    "    readonly penentration_protection: number\n",
    "    readonly magic: number\n",
    "}\n",
    "\"\"\"])"
   ]
  },
  {
   "cell_type": "code",
   "execution_count": 550,
   "metadata": {},
   "outputs": [],
   "source": [
    "configuration_string = (\n",
    "    f'export class MaterialConfiguration {{\\n'\n",
    "    f'    private static _instance: MaterialConfiguration;\\n'\n",
    "    f'{configuration_string}\\n'\n",
    "    # f'    get_instance() {{\\n'\n",
    "    # f'        if (MaterialConfiguration._instance) return MaterialConfiguration._instance;\\n'\n",
    "    # f'        MaterialConfiguration._instance = new MaterialConfiguration()\\n'\n",
    "    # f'    }}\\n'\n",
    "    f'}}\\n'\n",
    ")"
   ]
  },
  {
   "cell_type": "code",
   "execution_count": 551,
   "metadata": {},
   "outputs": [],
   "source": [
    "\n",
    "accessor_string = (\n",
    "    f'\\n'\n",
    "    f'export class FatMaterial implements MaterialData {{\\n'\n",
    "    f'    private _id: MATERIAL\\n'\n",
    "    f'    constructor(id: MATERIAL) {{\\n'\n",
    "    f'        if (!(id in MaterialConfiguration.MATERIAL_STRING)) {{\\n'\n",
    "    f'            throw new Error(`Invalid material id: ${id}`);\\n'\n",
    "    f'        }}\\n'\n",
    "    f'        this._id = id\\n'\n",
    "    f'    }}\\n'\n",
    "    f'{accessor_string}'\n",
    "    f'}}\\n'\n",
    ")\n",
    "\n",
    "print(main_string +  configuration_string + accessor_string, file=open(\"materials.ts\", \"w\"))"
   ]
  }
 ],
 "metadata": {
  "kernelspec": {
   "display_name": "Python 3",
   "language": "python",
   "name": "python3"
  },
  "language_info": {
   "codemirror_mode": {
    "name": "ipython",
    "version": 3
   },
   "file_extension": ".py",
   "mimetype": "text/x-python",
   "name": "python",
   "nbconvert_exporter": "python",
   "pygments_lexer": "ipython3",
   "version": "3.10.0"
  }
 },
 "nbformat": 4,
 "nbformat_minor": 2
}
